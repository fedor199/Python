{
 "cells": [
  {
   "cell_type": "code",
   "execution_count": 1,
   "metadata": {
    "collapsed": true
   },
   "outputs": [],
   "source": [
    "import numpy as np\n",
    "import matplotlib.pyplot as plt\n",
    "%matplotlib inline\n",
    "import math\n",
    "import itertools\n",
    "import warnings\n",
    "warnings.filterwarnings('ignore')"
   ]
  },
  {
   "cell_type": "markdown",
   "metadata": {},
   "source": [
    "#### Задание 1\n",
    "Напишите код, моделирующий выпадение поля в рулетке (с учетом поля зеро)."
   ]
  },
  {
   "cell_type": "code",
   "execution_count": 2,
   "metadata": {},
   "outputs": [
    {
     "name": "stdout",
     "output_type": "stream",
     "text": [
      "\n",
      "Выпало число: 32\n",
      "\n",
      "Выпало число: 15\n",
      "\n",
      "Выпало число: 25\n",
      "\n",
      "Выпало число: 23\n",
      "\n",
      "Выпало число: 21\n"
     ]
    }
   ],
   "source": [
    "for i in range(0, 5):\n",
    "    a = input()\n",
    "    x = int(np.random.uniform(0, 37))\n",
    "    print(f'Выпало число: {x}')"
   ]
  },
  {
   "cell_type": "markdown",
   "metadata": {},
   "source": [
    "#### Задание 2, задача 1\n",
    "Напишите код, проверяющий любую из теорем сложения или умножения вероятности на примере подбрасывания монетки."
   ]
  },
  {
   "cell_type": "code",
   "execution_count": 3,
   "metadata": {},
   "outputs": [
    {
     "name": "stdout",
     "output_type": "stream",
     "text": [
      "Выпало орлов: 41\n",
      "Выпало решек: 59\n",
      "Сумма: 100\n"
     ]
    }
   ],
   "source": [
    "k, m, s  = 0, 0, 0\n",
    "n = 100\n",
    "for i in range(0, n):\n",
    "    x = np.random.uniform(0, 10)\n",
    "    if x < 5:\n",
    "        k +=  1\n",
    "    else:\n",
    "        m += 1\n",
    "    s += 1\n",
    "#print(k, m, s)\n",
    "print(f'Выпало орлов: {k}')\n",
    "print(f'Выпало решек: {m}')\n",
    "print(f'Сумма: {s}')"
   ]
  },
  {
   "cell_type": "markdown",
   "metadata": {},
   "source": [
    "#### Задание 2, задача 2\n",
    "На конфетной фабрике собирают подарки к Новому Году из n=10 видов конфет. Берут примерно по M=100 г конфет каждого вида (но точно не получается, а выходит плюс-минус m, напр. 95...105 г). Т.е. выйдет вес всего подарка 1 кг плюс-минус накопленная погрешность. Всего собирают N=10000 подарков. Надо построить гистограмму распределения веса подарка."
   ]
  },
  {
   "cell_type": "code",
   "execution_count": 33,
   "metadata": {},
   "outputs": [
    {
     "data": {
      "text/plain": [
       "Text(0.5, 1.0, 'Histogram')"
      ]
     },
     "execution_count": 33,
     "metadata": {},
     "output_type": "execute_result"
    },
    {
     "data": {
      "image/png": "[encoded data removed]",
      "text/plain": [
       "<Figure size 432x288 with 1 Axes>"
      ]
     },
     "metadata": {},
     "output_type": "display_data"
    }
   ],
   "source": [
    "s = []\n",
    "for i in range(0, 10000):\n",
    "    x = np.random.randint(95, 106, 10)\n",
    "    sum = 0\n",
    "    for k in x:\n",
    "        sum += k\n",
    "    s.append(sum)\n",
    "num_bins = 10\n",
    "n, bins, patches = plt.hist(s, num_bins)\n",
    "plt.xlabel('Сумма')\n",
    "plt.ylabel('Probability')\n",
    "plt.title('Histogram')"
   ]
  },
  {
   "cell_type": "markdown",
   "metadata": {},
   "source": [
    "#### Задание 3, задание 1\n",
    "Дополните код Монте-Карло последовательности независимых испытаний расчетом соответствующих вероятностей (через биномиальное распределение) и сравните результаты"
   ]
  },
  {
   "cell_type": "code",
   "execution_count": 23,
   "metadata": {},
   "outputs": [
    {
     "name": "stdout",
     "output_type": "stream",
     "text": [
      "3797 10000 0.3797\n"
     ]
    }
   ],
   "source": [
    "k, n = 0, 10000\n",
    "a = np.random.randint(0, 2, n)\n",
    "b = np.random.randint(0, 2, n)\n",
    "c = np.random.randint(0, 2, n)\n",
    "d = np.random.randint(0, 2, n)\n",
    "x = a + b + c + d\n",
    "for i in range(0, n):\n",
    "    if x[i] == 2:\n",
    "        k = k + 1\n",
    "print(k, n, k/n)"
   ]
  },
  {
   "cell_type": "code",
   "execution_count": 24,
   "metadata": {},
   "outputs": [
    {
     "name": "stdout",
     "output_type": "stream",
     "text": [
      "0.375\n"
     ]
    }
   ],
   "source": [
    "def fact(f):\n",
    "    if f == 0:\n",
    "        return 1\n",
    "    else:\n",
    "        return f * fact(f-1)\n",
    "k, n = 2, 4\n",
    "c = (fact(n)/(fact(k)*fact(n-k)))*(0.5**n)\n",
    "print(c)"
   ]
  },
  {
   "cell_type": "markdown",
   "metadata": {},
   "source": [
    "#### Задание 3, задание 2\n",
    "Повторите расчеты, взяв другие значения n и k."
   ]
  },
  {
   "cell_type": "code",
   "execution_count": 25,
   "metadata": {},
   "outputs": [
    {
     "name": "stdout",
     "output_type": "stream",
     "text": [
      "2342 10000 0.2342\n"
     ]
    }
   ],
   "source": [
    "k, n = 0, 10000\n",
    "a = np.random.randint(0, 2, n)\n",
    "b = np.random.randint(0, 2, n)\n",
    "c = np.random.randint(0, 2, n)\n",
    "d = np.random.randint(0, 2, n)\n",
    "e = np.random.randint(0, 2, n)\n",
    "g = np.random.randint(0, 2, n)\n",
    "x = a + b + c + d + e + g\n",
    "for i in range(0, n):\n",
    "    if x[i] == 4:\n",
    "        k = k + 1\n",
    "print(k, n, k/n)"
   ]
  },
  {
   "cell_type": "code",
   "execution_count": 26,
   "metadata": {},
   "outputs": [
    {
     "name": "stdout",
     "output_type": "stream",
     "text": [
      "0.234375\n"
     ]
    }
   ],
   "source": [
    "def fact(f):\n",
    "    if f == 0:\n",
    "        return 1\n",
    "    else:\n",
    "        return f * fact(f-1)\n",
    "k, n = 4, 6\n",
    "x = (fact(n)/(fact(k)*fact(n-k)))*(0.5**n)\n",
    "print(x)"
   ]
  },
  {
   "cell_type": "markdown",
   "metadata": {},
   "source": [
    "#### Задание 4\n",
    "Повторите расчеты, взяв другие значения n и k."
   ]
  },
  {
   "cell_type": "markdown",
   "metadata": {},
   "source": [
    "Перестановки"
   ]
  },
  {
   "cell_type": "code",
   "execution_count": 27,
   "metadata": {},
   "outputs": [
    {
     "name": "stdout",
     "output_type": "stream",
     "text": [
      "012\n",
      "021\n",
      "102\n",
      "120\n",
      "201\n",
      "210\n"
     ]
    }
   ],
   "source": [
    "for p in itertools.permutations(\"012\",3):\n",
    "    print(''.join(str(x) for x in p))"
   ]
  },
  {
   "cell_type": "markdown",
   "metadata": {},
   "source": [
    "Размещения"
   ]
  },
  {
   "cell_type": "code",
   "execution_count": 28,
   "metadata": {},
   "outputs": [
    {
     "name": "stdout",
     "output_type": "stream",
     "text": [
      "012\n",
      "013\n",
      "014\n",
      "021\n",
      "023\n",
      "024\n",
      "031\n",
      "032\n",
      "034\n",
      "041\n",
      "042\n",
      "043\n",
      "102\n",
      "103\n",
      "104\n",
      "120\n",
      "123\n",
      "124\n",
      "130\n",
      "132\n",
      "134\n",
      "140\n",
      "142\n",
      "143\n",
      "201\n",
      "203\n",
      "204\n",
      "210\n",
      "213\n",
      "214\n",
      "230\n",
      "231\n",
      "234\n",
      "240\n",
      "241\n",
      "243\n",
      "301\n",
      "302\n",
      "304\n",
      "310\n",
      "312\n",
      "314\n",
      "320\n",
      "321\n",
      "324\n",
      "340\n",
      "341\n",
      "342\n",
      "401\n",
      "402\n",
      "403\n",
      "410\n",
      "412\n",
      "413\n",
      "420\n",
      "421\n",
      "423\n",
      "430\n",
      "431\n",
      "432\n"
     ]
    }
   ],
   "source": [
    "for p in itertools.permutations(\"01234\", 3):\n",
    "    print(''.join(str(x) for x in p))"
   ]
  },
  {
   "cell_type": "markdown",
   "metadata": {},
   "source": [
    "Сочетания"
   ]
  },
  {
   "cell_type": "code",
   "execution_count": 29,
   "metadata": {},
   "outputs": [
    {
     "name": "stdout",
     "output_type": "stream",
     "text": [
      "012\n",
      "013\n",
      "014\n",
      "023\n",
      "024\n",
      "034\n",
      "123\n",
      "124\n",
      "134\n",
      "234\n"
     ]
    }
   ],
   "source": [
    "for p in itertools.combinations(\"01234\",3):\n",
    "    print(''.join(p))"
   ]
  },
  {
   "cell_type": "markdown",
   "metadata": {},
   "source": [
    "#### Задание 5\n",
    "Дополните код расчетом коэффициента корреляции x и y по формуле"
   ]
  },
  {
   "cell_type": "code",
   "execution_count": 30,
   "metadata": {},
   "outputs": [
    {
     "name": "stdout",
     "output_type": "stream",
     "text": [
      "Корреляция: 0.9261238824928323\n",
      "0.7369600119197048 0.13036347127931408\n",
      "0.7369600119197045 0.1303634712793142\n"
     ]
    },
    {
     "data": {
      "image/png": "[encoded data removed]",
      "text/plain": [
       "<Figure size 432x288 with 1 Axes>"
      ]
     },
     "metadata": {},
     "output_type": "display_data"
    }
   ],
   "source": [
    "n = 100\n",
    "r = 0.7\n",
    "x = np.random.rand(n)\n",
    "y = r*x + (1 - r)*np.random.rand(n)\n",
    "plt.plot(x, y, 'o')\n",
    "plt.xlabel('x')\n",
    "plt.ylabel('y')\n",
    "plt.grid(True)\n",
    "\n",
    "corr = np.sum((x-np.mean(x)) * (y-np.mean(y))) / math.sqrt(np.sum((x-np.mean(x))**2) * np.sum((y-np.mean(y))**2))\n",
    "print(f'Корреляция: {corr}')\n",
    "\n",
    "a = (np.sum(x)*np.sum(y) - n*np.sum(x*y))/(np.sum(x)*np.sum(x) - n*np.sum(x*x))\n",
    "b = (np.sum(y) - a*np.sum(x))/n\n",
    "\n",
    "A = np.vstack([x, np.ones(len(x))]).T\n",
    "a1, b1 = np.linalg.lstsq(A, y)[0]\n",
    "print(a, b)\n",
    "print(a1, b1)\n",
    "plt.plot([0, 1], [b, a + b])\n",
    "plt.show()"
   ]
  },
  {
   "cell_type": "code",
   "execution_count": null,
   "metadata": {
    "collapsed": true
   },
   "outputs": [],
   "source": []
  }
 ],
 "metadata": {
  "kernelspec": {
   "display_name": "Python 3",
   "language": "python",
   "name": "python3"
  },
  "language_info": {
   "codemirror_mode": {
    "name": "ipython",
    "version": 3
   },
   "file_extension": ".py",
   "mimetype": "text/x-python",
   "name": "python",
   "nbconvert_exporter": "python",
   "pygments_lexer": "ipython3",
   "version": "3.6.8"
  }
 },
 "nbformat": 4,
 "nbformat_minor": 2
}
